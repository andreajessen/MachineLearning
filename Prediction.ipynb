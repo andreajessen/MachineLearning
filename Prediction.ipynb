{
 "cells": [
  {
   "cell_type": "code",
   "execution_count": 2,
   "metadata": {},
   "outputs": [],
   "source": [
    "import pickle\n",
    "import pandas as pd\n",
    "import os\n",
    "import random\n",
    "import cv2\n",
    "from matplotlib import pyplot as plt\n",
    "import splitfolders\n",
    "import numpy as np\n",
    "from torchsummary import summary\n",
    "from torch import nn\n",
    "import copy\n",
    "import time\n",
    "import timm\n",
    "import torch\n",
    "from timm.data.constants import IMAGENET_DEFAULT_MEAN, IMAGENET_DEFAULT_STD\n",
    "from torchvision import datasets, models, transforms\n",
    "from torch.utils.data import DataLoader\n",
    "import torch\n",
    "from torch import nn, optim\n",
    "import sys\n",
    "from time import sleep\n",
    "from datetime import datetime\n",
    "from torchvision.datasets.folder import default_loader\n",
    "import torch.nn as nn\n",
    "import torch.nn.functional as F\n",
    "import seaborn as sns\n",
    "from sklearn.metrics import accuracy_score, classification_report, confusion_matrix\n",
    "\n",
    "\n"
   ]
  },
  {
   "cell_type": "code",
   "execution_count": 3,
   "metadata": {},
   "outputs": [],
   "source": [
    "BASELINE = \"baseline\"\n",
    "BILATERAL = \"bilateral\"\n",
    "CANNY = 'canny'\n",
    "CLAHE = 'clahe'\n",
    "\n",
    "\n",
    "BATCH_SIZE = 64"
   ]
  },
  {
   "cell_type": "markdown",
   "metadata": {},
   "source": [
    "## Necessary functions"
   ]
  },
  {
   "cell_type": "code",
   "execution_count": 7,
   "metadata": {},
   "outputs": [],
   "source": [
    "class Dataset(datasets.ImageFolder):\n",
    "    def __init__(self, root, parameter_dict, loader=default_loader, is_valid_file=None):\n",
    "        super(Dataset, self).__init__(root=root, loader=loader, is_valid_file=is_valid_file)\n",
    "        assert 'gray_scale' in parameter_dict\n",
    "        self.gray_scale = parameter_dict['gray_scale']\n",
    "        self.mean = IMAGENET_DEFAULT_MEAN\n",
    "        self.std = IMAGENET_DEFAULT_STD\n",
    "    \n",
    "    def __getitem__(self, index):\n",
    "        image_path, target = self.samples[index]\n",
    "        img = cv2.imread(image_path)\n",
    "        if self.gray_scale:\n",
    "            img = cv2.cvtColor(img, cv2.COLOR_BGR2GRAY)\n",
    "            self.mean = [0.5]\n",
    "            self.std = [0.5]\n",
    "        tensor = transforms.ToTensor()(img)\n",
    "        sample = transforms.Normalize(self.mean, self.std)(tensor)\n",
    "        return sample, target, index\n",
    "        \n",
    "class NoiseReductionDataset(datasets.ImageFolder):\n",
    "    def __init__(self, root, parameter_dict, loader=default_loader, is_valid_file=None):\n",
    "        super(NoiseReductionDataset, self).__init__(root=root, loader=loader, is_valid_file=is_valid_file)\n",
    "        assert 'gray_scale' in parameter_dict\n",
    "        assert 'd' in parameter_dict\n",
    "        assert 'sigmaColor' in parameter_dict\n",
    "        assert 'sigmaSpace' in parameter_dict\n",
    "\n",
    "        self.gray_scale = parameter_dict['gray_scale']\n",
    "        self.mean = IMAGENET_DEFAULT_MEAN\n",
    "        self.std = IMAGENET_DEFAULT_STD\n",
    "        self.d = parameter_dict['d']\n",
    "        self.sigmaColor = parameter_dict['sigmaColor']\n",
    "        self.sigmaSpace = parameter_dict['sigmaSpace']\n",
    "    \n",
    "    def __getitem__(self, index):\n",
    "        image_path, target = self.samples[index]\n",
    "        img = cv2.imread(image_path)\n",
    "        if self.gray_scale:\n",
    "            img = cv2.cvtColor(img, cv2.COLOR_BGR2GRAY)\n",
    "            self.mean = [0.5]\n",
    "            self.std = [0.5]\n",
    "        ## OBS: not sure about d, sigmaColor and sigmaSpace (15, 75, 75)\n",
    "        noiseless = cv2.bilateralFilter(img, self.d, self.sigmaColor, self.sigmaSpace)\n",
    "        tensor = transforms.ToTensor()(noiseless)\n",
    "        sample = transforms.Normalize(self.mean, self.std)(tensor)\n",
    "        return sample, target, index\n",
    "\n",
    "class EdgeDetectionDataset(datasets.ImageFolder):\n",
    "    def __init__(self, root, parameter_dict, loader=default_loader, is_valid_file=None):\n",
    "        super(EdgeDetectionDataset, self).__init__(root=root, loader=loader, is_valid_file=is_valid_file)\n",
    "        assert 'gray_scale' in parameter_dict\n",
    "        assert 'low_tresh' in parameter_dict\n",
    "        assert 'high_tresh' in parameter_dict\n",
    "\n",
    "        self.gray_scale = parameter_dict['gray_scale']\n",
    "        self.mean = IMAGENET_DEFAULT_MEAN\n",
    "        self.std = IMAGENET_DEFAULT_STD\n",
    "    \n",
    "    def __getitem__(self, index):\n",
    "        image_path, target = self.samples[index]\n",
    "        img = cv2.imread(image_path)\n",
    "        if self.gray_scale:\n",
    "            img = cv2.cvtColor(img, cv2.COLOR_BGR2GRAY)\n",
    "            self.mean = [0.5]\n",
    "            self.std = [0.5]\n",
    "        ## OBS: not sure about minVal and maxVal (100, 200) also need to look at aperture_size (size of Sobel kernel) and  L2gradient\n",
    "        edge = cv2.Canny(img, parameter_dict['low_tresh'], parameter_dict['high_tresh'])\n",
    "        tensor = transforms.ToTensor()(edge)\n",
    "        sample = transforms.Normalize(self.mean, self.std)(tensor)\n",
    "        return sample, target, index\n",
    "\n",
    "class ContrastEnhancingDataset(datasets.ImageFolder):\n",
    "    def __init__(self, root, parameter_dict, loader=default_loader, is_valid_file=None):\n",
    "        super(ContrastEnhancingDataset, self).__init__(root=root, loader=loader, is_valid_file=is_valid_file)\n",
    "        assert 'gray_scale' in parameter_dict\n",
    "        assert 'clipLimit' in parameter_dict\n",
    "        assert 'tileGridSize' in parameter_dict\n",
    "\n",
    "        self.gray_scale = parameter_dict['gray_scale']\n",
    "        self.mean = IMAGENET_DEFAULT_MEAN\n",
    "        self.std = IMAGENET_DEFAULT_STD\n",
    "    \n",
    "    def __getitem__(self, index):\n",
    "        image_path, target = self.samples[index]\n",
    "        img = cv2.imread(image_path)\n",
    "        if self.gray_scale:\n",
    "            img = cv2.cvtColor(img, cv2.COLOR_BGR2GRAY)\n",
    "            self.mean = [0.5]\n",
    "            self.std = [0.5]\n",
    "        ## OBS: not sure about clipLimit=2.0, tileGridSize=(8,8)\n",
    "        clahe = cv2.createCLAHE(clipLimit=parameter_dict['clipLimit'], tileGridSize=parameter_dict['tileGridSize'])\n",
    "        enhanced = clahe.apply(img)\n",
    "        tensor = transforms.ToTensor()(enhanced)\n",
    "        sample = transforms.Normalize(self.mean, self.std)(tensor)\n",
    "        return sample, target, index"
   ]
  },
  {
   "cell_type": "code",
   "execution_count": 8,
   "metadata": {},
   "outputs": [],
   "source": [
    "def get_dataset(root_dir, mode, classe, parameter_dict):\n",
    "    path = os.path.join(root_dir, mode)\n",
    "    dataset = classe(path, parameter_dict)\n",
    "    return dataset\n",
    "\n",
    "def dataloader(root_dir, mode, classe, parameter_dict):\n",
    "    dataset = get_dataset(root_dir, mode, classe, parameter_dict)\n",
    "    # Can have batchsize in dataloader\n",
    "    data_loader = DataLoader(\n",
    "        dataset,\n",
    "        batch_size = BATCH_SIZE,\n",
    "        shuffle = True\n",
    "    )\n",
    "    return data_loader, dataset"
   ]
  },
  {
   "cell_type": "code",
   "execution_count": 11,
   "metadata": {},
   "outputs": [],
   "source": [
    "class ConvolutionalNet(nn.Module):\n",
    "    def __init__(self, gray_scale=False):\n",
    "        super().__init__()\n",
    "        input_dimention = 1 if gray_scale else 3\n",
    "        self.conv1 = nn.Conv2d(input_dimention, 6, 5)\n",
    "        self.pool = nn.MaxPool2d(2, 2)\n",
    "        self.fc1 = nn.Linear(73926, 120)\n",
    "        self.fc2 = nn.Linear(120, 84)\n",
    "        self.fc3 = nn.Linear(84, 2)\n",
    "        self.dropout = nn.Dropout(0.25)\n",
    "\n",
    "    def forward(self, x):\n",
    "        x = self.pool(F.relu(self.conv1(x)))\n",
    "        x = self.dropout(x)\n",
    "        x = torch.flatten(x, 1) # flatten all dimensions except batch\n",
    "        x = F.relu(self.fc1(x))\n",
    "        x = F.relu(self.fc2(x))\n",
    "        x = self.fc3(x)\n",
    "        return x"
   ]
  },
  {
   "cell_type": "markdown",
   "metadata": {},
   "source": [
    "## Prediction on testset"
   ]
  },
  {
   "cell_type": "code",
   "execution_count": 15,
   "metadata": {},
   "outputs": [],
   "source": [
    "# model_path = 'model_07_01_2022_15:52:55_model.pth'\n",
    "\n",
    "model_path = 'models/bilateral_grey_20_01_2022_17:27:39_model.pth'\n",
    "\n",
    "RUN_TYPE = BILATERAL\n",
    "GRAY_SCALE = True\n",
    "root_dir = 'Images'"
   ]
  },
  {
   "cell_type": "code",
   "execution_count": 13,
   "metadata": {},
   "outputs": [],
   "source": [
    "model = torch.load(model_path)"
   ]
  },
  {
   "cell_type": "code",
   "execution_count": 16,
   "metadata": {},
   "outputs": [
    {
     "name": "stdout",
     "output_type": "stream",
     "text": [
      "testing  bilateral  with grayscale  True\n"
     ]
    }
   ],
   "source": [
    "if RUN_TYPE == BASELINE:\n",
    "    dataloder_test, dataset_test = dataloader(root_dir, \"test\", Dataset, {'gray_scale': GRAY_SCALE})\n",
    "elif RUN_TYPE == BILATERAL:\n",
    "    # Bilateral\n",
    "    parameter_dict = {'gray_scale': GRAY_SCALE, 'd': 15, 'sigmaColor': 50, 'sigmaSpace': 100}\n",
    "    dataloder_test, dataset_test = dataloader(root_dir, \"test\", NoiseReductionDataset, parameter_dict )\n",
    "elif RUN_TYPE == CANNY:\n",
    "    parameter_dict = {'gray_scale': GRAY_SCALE, 'low_tresh': 50, 'high_tresh': 230}\n",
    "    dataloder_test, dataset_test = dataloader(root_dir, \"test\", EdgeDetectionDataset, parameter_dict )\n",
    "elif RUN_TYPE == CLAHE:\n",
    "    parameter_dict = {'gray_scale': GRAY_SCALE, 'clipLimit': 1.0, 'tileGridSize': (8,8)}\n",
    "    dataloder_test, dataset_test = dataloader(root_dir, \"test\", ContrastEnhancingDataset, parameter_dict )\n",
    "else:\n",
    "    raise Exception(\"Unknown run tpye\")\n",
    "\n",
    "print(\"testing \", RUN_TYPE, \" with grayscale \", GRAY_SCALE)"
   ]
  },
  {
   "cell_type": "code",
   "execution_count": 19,
   "metadata": {},
   "outputs": [
    {
     "name": "stdout",
     "output_type": "stream",
     "text": [
      "Length of dataset: 6000, classes in dataset: ['Negative', 'Positive']\n",
      "Shape of image: torch.Size([64, 1, 227, 227])\n"
     ]
    }
   ],
   "source": [
    "print(f\"Length of dataset: {len(dataset_test)}, classes in dataset: {dataset_test.classes}\")\n",
    "inputs, classes, indices = next(iter(dataloder_test))\n",
    "print(\"Shape of image:\", inputs.shape)"
   ]
  },
  {
   "cell_type": "code",
   "execution_count": 20,
   "metadata": {},
   "outputs": [
    {
     "data": {
      "text/plain": [
       "'cpu'"
      ]
     },
     "execution_count": 20,
     "metadata": {},
     "output_type": "execute_result"
    }
   ],
   "source": [
    "device = 'cuda' if torch.cuda.is_available() else 'cpu'\n",
    "device"
   ]
  },
  {
   "cell_type": "code",
   "execution_count": 21,
   "metadata": {},
   "outputs": [
    {
     "name": "stdout",
     "output_type": "stream",
     "text": [
      "Prediction:[====================] 100.27%Accuracy for class Negative is: 98.9 %\n",
      "Accuracy for class Positive is: 97.4 %\n"
     ]
    }
   ],
   "source": [
    "# prepare to count predictions for each class\n",
    "correct_pred = {classname: 0 for classname in dataset_test.classes}\n",
    "total_pred = {classname: 0 for classname in dataset_test.classes}\n",
    "classlabels = {0: 'Negative', 1: 'Positive'}\n",
    "\n",
    "full_pred_list = []\n",
    "full_ground_truth = []\n",
    "# again no gradients needed\n",
    "i=0\n",
    "with torch.no_grad():\n",
    "    for data in dataloder_test:\n",
    "        i+=1\n",
    "        inputs, labels = data[0].to(device), data[1].to(device)\n",
    "        outputs = model(inputs)\n",
    "        _, predictions = torch.max(outputs, 1)\n",
    "\n",
    "        # Print loading bar\n",
    "        sys.stdout.write('\\r')\n",
    "        percentage = 100/len(dataset_test)*BATCH_SIZE*i\n",
    "        sys.stdout.write(\"Prediction:[%-20s] %.2f%%\" % ('='*round(percentage/5), percentage))\n",
    "        sys.stdout.flush()\n",
    "\n",
    "\n",
    "        # collect the correct predictions for each class\n",
    "        for label, prediction in zip(labels, predictions):\n",
    "            full_pred_list.append(prediction.item())\n",
    "            full_ground_truth.append(label.item())\n",
    "            classs = label.item()\n",
    "            if label == prediction:\n",
    "                correct_pred[classlabels[classs]] += 1\n",
    "            total_pred[classlabels[classs]] += 1\n",
    "\n",
    "\n",
    "# print accuracy for each class\n",
    "for classname, correct_count in correct_pred.items():\n",
    "    accuracy = 100 * float(correct_count) / total_pred[classname]\n",
    "    print(\"Accuracy for class {:5s} is: {:.1f} %\".format(classname,\n",
    "                                                   accuracy))"
   ]
  },
  {
   "cell_type": "code",
   "execution_count": 22,
   "metadata": {},
   "outputs": [],
   "source": [
    "def plot_confusion_matrix(confusion_matrix):\n",
    "\n",
    "    ax = sns.heatmap(confusion_matrix, annot=True, cmap='Blues', fmt='d')\n",
    "\n",
    "    ax.set_title('Confusion Matrix\\n\\n')\n",
    "    ax.set_xlabel('\\nPredicted Values')\n",
    "    ax.set_ylabel('Actual Values ')\n",
    "\n",
    "    ## Ticket labels - List must be in alphabetical order\n",
    "    ax.xaxis.set_ticklabels(['False','True'])\n",
    "    ax.yaxis.set_ticklabels(['False','True'])\n",
    "\n",
    "    ## Display the visualization of the Confusion Matrix.\n",
    "    plt.show()"
   ]
  },
  {
   "cell_type": "code",
   "execution_count": 23,
   "metadata": {},
   "outputs": [],
   "source": [
    "def evaluation(ground_truth, predictions):\n",
    "    '''\n",
    "        Function for plotting the confusion_matrix\n",
    "        Inputs:\n",
    "            predicitons: Predicitons from a keras model\n",
    "\n",
    "    '''\n",
    "    target_names = ['Negative (0)', 'Positive (1)']\n",
    "    print(classification_report(ground_truth, predictions, target_names=target_names, digits=4))\n",
    "    print(accuracy_score(ground_truth, predictions))\n",
    "    cf_matrix = confusion_matrix(ground_truth, predictions)\n",
    "    plot_confusion_matrix(cf_matrix)"
   ]
  },
  {
   "cell_type": "code",
   "execution_count": 24,
   "metadata": {},
   "outputs": [
    {
     "name": "stdout",
     "output_type": "stream",
     "text": [
      "              precision    recall  f1-score   support\n",
      "\n",
      "Negative (0)     0.9747    0.9887    0.9816      3000\n",
      "Positive (1)     0.9885    0.9743    0.9814      3000\n",
      "\n",
      "    accuracy                         0.9815      6000\n",
      "   macro avg     0.9816    0.9815    0.9815      6000\n",
      "weighted avg     0.9816    0.9815    0.9815      6000\n",
      "\n",
      "0.9815\n"
     ]
    },
    {
     "data": {
      "image/png": "[encoded data removed]",
      "text/plain": [
       "<Figure size 432x288 with 2 Axes>"
      ]
     },
     "metadata": {
      "needs_background": "light"
     },
     "output_type": "display_data"
    }
   ],
   "source": [
    "evaluation(full_ground_truth, full_pred_list)"
   ]
  },
  {
   "cell_type": "code",
   "execution_count": null,
   "metadata": {},
   "outputs": [],
   "source": []
  }
 ],
 "metadata": {
  "interpreter": {
   "hash": "aee8b7b246df8f9039afb4144a1f6fd8d2ca17a180786b69acc140d282b71a49"
  },
  "kernelspec": {
   "display_name": "Python 3.9.9 64-bit",
   "language": "python",
   "name": "python3"
  },
  "language_info": {
   "codemirror_mode": {
    "name": "ipython",
    "version": 3
   },
   "file_extension": ".py",
   "mimetype": "text/x-python",
   "name": "python",
   "nbconvert_exporter": "python",
   "pygments_lexer": "ipython3",
   "version": "3.9.9"
  },
  "orig_nbformat": 4
 },
 "nbformat": 4,
 "nbformat_minor": 2
}
